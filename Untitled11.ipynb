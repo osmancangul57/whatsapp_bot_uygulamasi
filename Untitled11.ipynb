{
 "cells": [
  {
   "cell_type": "code",
   "execution_count": null,
   "metadata": {},
   "outputs": [],
   "source": [
    "import pywhatkit as kit\n",
    "\n",
    "try :\n",
    "    kit.sendwhatmsg(\"+90 000 000 00 00\",\"whatsapp bot uygulaması \\U0001F607\",16,39)\n",
    "    print(\"Gönderme Başarılı\")\n",
    "except:\n",
    "    print(\"Beklenmedik Hata :[\")\n",
    "\n",
    "# 16,39 saat göstergesi onu siz belirleyeceksiniz."
   ]
  }
 ],
 "metadata": {
  "kernelspec": {
   "display_name": "Python 3",
   "language": "python",
   "name": "python3"
  },
  "language_info": {
   "codemirror_mode": {
    "name": "ipython",
    "version": 3
   },
   "file_extension": ".py",
   "mimetype": "text/x-python",
   "name": "python",
   "nbconvert_exporter": "python",
   "pygments_lexer": "ipython3",
   "version": "3.8.5"
  }
 },
 "nbformat": 4,
 "nbformat_minor": 4
}
